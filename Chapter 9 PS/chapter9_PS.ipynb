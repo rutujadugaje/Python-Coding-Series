{
 "cells": [
  {
   "cell_type": "code",
   "execution_count": 4,
   "id": "b7eb7e0a-2371-48aa-8b05-31ffc8d19003",
   "metadata": {},
   "outputs": [],
   "source": [
    "def generateTable(n):\n",
    "    table = \"\"\n",
    "    for i in range(1, 11):\n",
    "\n",
    "        with open(f\"table/table_{n}\", \"w\") as f:\n",
    "            f.write(table)\n",
    "\n",
    "for i in range(2,21):\n",
    "    generateTable(i)"
   ]
  },
  {
   "cell_type": "code",
   "execution_count": null,
   "id": "155bc9ed-be58-4913-b164-2be648dcf977",
   "metadata": {},
   "outputs": [],
   "source": []
  }
 ],
 "metadata": {
  "kernelspec": {
   "display_name": "Python 3 (ipykernel)",
   "language": "python",
   "name": "python3"
  },
  "language_info": {
   "codemirror_mode": {
    "name": "ipython",
    "version": 3
   },
   "file_extension": ".py",
   "mimetype": "text/x-python",
   "name": "python",
   "nbconvert_exporter": "python",
   "pygments_lexer": "ipython3",
   "version": "3.13.3"
  }
 },
 "nbformat": 4,
 "nbformat_minor": 5
}
